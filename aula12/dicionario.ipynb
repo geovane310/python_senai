{
 "cells": [
  {
   "cell_type": "markdown",
   "metadata": {},
   "source": [
    "# dicionarios\n",
    "\n",
    "É um conjunto de chaves e valores que distinguem um onjeto. Estas chaves nos chamanos de KEYS e seus valores de VALUES. É um tipo especial de variavel python indenticicadas pelas{}."
   ]
  },
  {
   "cell_type": "code",
   "execution_count": 86,
   "metadata": {},
   "outputs": [
    {
     "name": "stdout",
     "output_type": "stream",
     "text": [
      "{'nome': 'Geovane', 'idade': 18, 'cidade': 'Florianópoles'}\n"
     ]
    }
   ],
   "source": [
    "pessoa = {'nome': 'Geovane', 'idade': 18, 'cidade': 'Florianópoles'}\n",
    "\n",
    "print(pessoa)"
   ]
  },
  {
   "cell_type": "code",
   "execution_count": 87,
   "metadata": {},
   "outputs": [
    {
     "data": {
      "text/plain": [
       "dict_keys(['nome', 'idade', 'cidade'])"
      ]
     },
     "execution_count": 87,
     "metadata": {},
     "output_type": "execute_result"
    }
   ],
   "source": [
    "# Metodo KYES()\n",
    "\n",
    "pessoa.keys()"
   ]
  },
  {
   "cell_type": "code",
   "execution_count": 88,
   "metadata": {},
   "outputs": [
    {
     "data": {
      "text/plain": [
       "dict_values(['Geovane', 18, 'Florianópoles'])"
      ]
     },
     "execution_count": 88,
     "metadata": {},
     "output_type": "execute_result"
    }
   ],
   "source": [
    "# metodo VALUES()\n",
    "\n",
    "pessoa.values()"
   ]
  },
  {
   "cell_type": "code",
   "execution_count": 89,
   "metadata": {},
   "outputs": [
    {
     "data": {
      "text/plain": [
       "18"
      ]
     },
     "execution_count": 89,
     "metadata": {},
     "output_type": "execute_result"
    }
   ],
   "source": [
    "# Olhando valores espesificos de um dicionario\n",
    "\n",
    "pessoa[\"idade\"]"
   ]
  },
  {
   "cell_type": "code",
   "execution_count": 90,
   "metadata": {},
   "outputs": [
    {
     "name": "stdout",
     "output_type": "stream",
     "text": [
      "{'nome': 'Geovane', 'idade': 18, 'cidade': 'Florianópoles'}\n",
      "{'nome': 'Geovane', 'idade': 18, 'cidade': 'Brasilia'}\n"
     ]
    }
   ],
   "source": [
    "# Atribuindo um novo valor a uma chave\n",
    "print(pessoa)\n",
    "pessoa['cidade'] = \"Brasilia\"\n",
    "print(pessoa)"
   ]
  },
  {
   "cell_type": "code",
   "execution_count": 91,
   "metadata": {},
   "outputs": [
    {
     "name": "stdout",
     "output_type": "stream",
     "text": [
      "{'nome': 'Geovane', 'idade': 18, 'cidade': 'Brasilia', 'email': 'geovane@teste.com'}\n"
     ]
    }
   ],
   "source": [
    "pessoa['email'] = 'geovane@teste.com'\n",
    "\n",
    "print(pessoa)"
   ]
  },
  {
   "cell_type": "code",
   "execution_count": 92,
   "metadata": {},
   "outputs": [
    {
     "name": "stdout",
     "output_type": "stream",
     "text": [
      "{'nome': 'Geovane', 'email': 'geovane@teste.com'}\n"
     ]
    }
   ],
   "source": [
    "# excluindo uma chave e seu valor\n",
    "del pessoa['idade']\n",
    "\n",
    "pessoa.pop('cidade')\n",
    "\n",
    "print(pessoa)"
   ]
  },
  {
   "cell_type": "code",
   "execution_count": 4,
   "metadata": {},
   "outputs": [
    {
     "name": "stdout",
     "output_type": "stream",
     "text": [
      "0 [{'nome': 'Daniel', 'cidade': 'Aguas claras'}, {'nome': 'Marcos', 'cidade': 'recanto'}, {'nome': 'Luana', 'cidade': 'Brasilia'}, {'nome': 'Francineide', 'cidade': 'Ceilandia'}]\n",
      "1 [{'nome': 'Daniel', 'cidade': 'Aguas claras'}, {'nome': 'Marcos', 'cidade': 'recanto'}, {'nome': 'Luana', 'cidade': 'Brasilia'}, {'nome': 'Francineide', 'cidade': 'Ceilandia'}]\n",
      "2 [{'nome': 'Daniel', 'cidade': 'Aguas claras'}, {'nome': 'Marcos', 'cidade': 'recanto'}, {'nome': 'Luana', 'cidade': 'Brasilia'}, {'nome': 'Francineide', 'cidade': 'Ceilandia'}]\n",
      "3 [{'nome': 'Daniel', 'cidade': 'Aguas claras'}, {'nome': 'Marcos', 'cidade': 'recanto'}, {'nome': 'Luana', 'cidade': 'Brasilia'}, {'nome': 'Francineide', 'cidade': 'Ceilandia'}]\n"
     ]
    }
   ],
   "source": [
    "alunos = [\n",
    "      {'nome': 'Daniel', 'cidade':'Aguas claras'},\n",
    "      {'nome': 'Marcos', 'cidade':'recanto'},\n",
    "      {'nome': 'Luana', 'cidade':'Brasilia'},\n",
    "      {'nome': 'Francineide', 'cidade':'Ceilandia'}\n",
    "]\n",
    " \n",
    "\n",
    "# Percorrendo lista e printando cada dicionario\n",
    "for indice, aluno in enumerate(alunos):\n",
    "      print(indice , alunos)"
   ]
  },
  {
   "cell_type": "code",
   "execution_count": 5,
   "metadata": {},
   "outputs": [
    {
     "name": "stdout",
     "output_type": "stream",
     "text": [
      "{'nome': 'Luana', 'cidade': 'Brasilia'}\n"
     ]
    }
   ],
   "source": [
    "print(alunos[2])"
   ]
  },
  {
   "cell_type": "code",
   "execution_count": 6,
   "metadata": {},
   "outputs": [
    {
     "name": "stdout",
     "output_type": "stream",
     "text": [
      "{'Daniel': {'matricula': '1234', 'escolaridade': 'superior'}, 'Luana': {'matricula': '5678', 'escolaridade': 'superior'}, 'Gilmar': {'matricula': '4321', 'escolaridade': 'superior'}, 'felipe': {'matricula': '9874', 'escolaridade': 'medio'}}\n"
     ]
    }
   ],
   "source": [
    "alunos_dicionario = {\n",
    "      'Daniel': {'matricula':'1234', 'escolaridade': 'superior'},\n",
    "      'Luana': { 'matricula':'5678', 'escolaridade': 'superior'},\n",
    "      'Gilmar': { 'matricula':'4321', 'escolaridade': 'superior'},\n",
    "      'felipe': { 'matricula':'9874', 'escolaridade': 'medio'}    \n",
    "}\n",
    "\n",
    "print(alunos_dicionario)"
   ]
  },
  {
   "cell_type": "code",
   "execution_count": 8,
   "metadata": {},
   "outputs": [
    {
     "name": "stdout",
     "output_type": "stream",
     "text": [
      "medio\n"
     ]
    }
   ],
   "source": [
    "print(alunos_dicionario['felipe']['escolaridade'])"
   ]
  }
 ],
 "metadata": {
  "interpreter": {
   "hash": "023695796a0456db28915f727eb64cb942055160ea749933aa044f2070f70f3a"
  },
  "kernelspec": {
   "display_name": "Python 3.12.5 64-bit (windows store)",
   "language": "python",
   "name": "python3"
  },
  "language_info": {
   "codemirror_mode": {
    "name": "ipython",
    "version": 3
   },
   "file_extension": ".py",
   "mimetype": "text/x-python",
   "name": "python",
   "nbconvert_exporter": "python",
   "pygments_lexer": "ipython3",
   "version": "3.12.5"
  },
  "orig_nbformat": 4
 },
 "nbformat": 4,
 "nbformat_minor": 2
}
