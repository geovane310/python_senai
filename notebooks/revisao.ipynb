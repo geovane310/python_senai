{
 "cells": [
  {
   "cell_type": "markdown",
   "metadata": {},
   "source": [
    "# Relembrando variaveis\n",
    "\n",
    "tipos:\n",
    "\n",
    " - int()\n",
    " - str()\n",
    " - float()\n",
    " - bool()\n",
    " - list()\n",
    " - tuple()\n",
    " - dict()"
   ]
  },
  {
   "cell_type": "code",
   "execution_count": 40,
   "metadata": {},
   "outputs": [],
   "source": [
    "numero = 1\n",
    "nome = 'Geovane'\n",
    "numero_dicimal = 10.9\n",
    "sera = True\n",
    "frutas = ['péra', 'morango', 'uva']\n",
    "carros = ('gol', 'uno', 'fusca')\n",
    "pessoa = {'nome': 'geovane', 'idade':18, 'altura':1.73}"
   ]
  },
  {
   "cell_type": "markdown",
   "metadata": {},
   "source": [
    "## condicionais\n",
    "\n",
    " - if\n",
    " - match case"
   ]
  },
  {
   "cell_type": "code",
   "execution_count": 41,
   "metadata": {},
   "outputs": [
    {
     "name": "stdout",
     "output_type": "stream",
     "text": [
      "O nome esta correto\n"
     ]
    }
   ],
   "source": [
    "if nome == 'Geovane':\n",
    "      print('O nome esta correto')\n",
    "else:\n",
    "      print('O nome não esta correto')"
   ]
  },
  {
   "cell_type": "code",
   "execution_count": 42,
   "metadata": {},
   "outputs": [
    {
     "name": "stdout",
     "output_type": "stream",
     "text": [
      "opcão 1\n"
     ]
    }
   ],
   "source": [
    "match numero:\n",
    "      case 1:\n",
    "            print('opcão 1')\n",
    "      case 2:\n",
    "            print('opcão 2')\n",
    "      case 3:\n",
    "            print('opcão 3')\n",
    "      case 4:\n",
    "            print('opcão 4')\n",
    "      case _:\n",
    "            print('opcão invalida')\n",
    "\n",
    "     "
   ]
  },
  {
   "cell_type": "markdown",
   "metadata": {},
   "source": [
    "### laços de repetição\n",
    "\n",
    "- for\n",
    "- while"
   ]
  },
  {
   "cell_type": "markdown",
   "metadata": {},
   "source": []
  },
  {
   "cell_type": "code",
   "execution_count": 43,
   "metadata": {},
   "outputs": [
    {
     "name": "stdout",
     "output_type": "stream",
     "text": [
      "o munero é: 1\n",
      "o munero é: 1\n",
      "o munero é: 1\n",
      "o munero é: 1\n",
      "o munero é: 1\n"
     ]
    }
   ],
   "source": [
    "for i in range(5):\n",
    "      print(f'o munero é: {numero}')"
   ]
  },
  {
   "cell_type": "code",
   "execution_count": 44,
   "metadata": {},
   "outputs": [
    {
     "name": "stdout",
     "output_type": "stream",
     "text": [
      "O contador é: 0\n",
      "O contador é: 1\n",
      "O contador é: 2\n",
      "O contador é: 3\n",
      "O contador é: 4\n",
      "O contador é: 5\n"
     ]
    }
   ],
   "source": [
    "contador = 0\n",
    "while contador <= 5:\n",
    "      print(f'O contador é: {contador}')\n",
    "      contador += 1"
   ]
  },
  {
   "cell_type": "markdown",
   "metadata": {},
   "source": [
    "## Metodos de string\n",
    "- upper\n",
    "- lower\n",
    "- capitalizer\n",
    "- slit\n",
    "- strip\n",
    "- slice\n",
    "- replece\n",
    "- join"
   ]
  },
  {
   "cell_type": "code",
   "execution_count": 45,
   "metadata": {},
   "outputs": [
    {
     "name": "stdout",
     "output_type": "stream",
     "text": [
      "geovane de frança santiago\n",
      "Geovane de frança santiago\n",
      "GEOVANE DE FRANÇA SANTIAGO\n",
      "Geovane de França Santiago\n",
      "Geovane de Santiago Santiago\n",
      "GeovaneGeovane de França SantiagoAdriana\n",
      "['Geovane', 'de', 'França', 'Santiago']\n",
      "de Fr\n"
     ]
    }
   ],
   "source": [
    "aluno = 'Geovane de França Santiago'\n",
    "alunos = ['Geovane', 'Adriana']\n",
    "print(aluno.lower()) # deixa minusculos\n",
    "print(aluno.capitalize())# deixa a primera letra maiuscula\n",
    "print(aluno.upper())# deixa maiusculo\n",
    "print(aluno.strip())# remove o espaço\n",
    "print(aluno.replace('França', 'Santiago')) # substitui uma sequencia de caracter por outra\n",
    "print(aluno.join(alunos)) # transforma uma lista em uma string com o caracter deejado de separador\n",
    "print(aluno.split()) # cria uma lista com as palavras encontradas na string\n",
    "print(aluno[8:13]) # corta uma string no intervalo de caracteres fornecidos"
   ]
  },
  {
   "cell_type": "markdown",
   "metadata": {},
   "source": [
    "# metodos de lista\n",
    "- append\n",
    "- extend\n",
    "- insert\n",
    "- remove\n",
    "- pop\n",
    "- index\n",
    "- del\n",
    "- sort\n",
    "- reverse"
   ]
  },
  {
   "cell_type": "code",
   "execution_count": 46,
   "metadata": {},
   "outputs": [
    {
     "name": "stdout",
     "output_type": "stream",
     "text": [
      "['notebook', 'smartphome', 'smart tv', 'fliperama']\n",
      "['notebook', 'smartphome', 'smart tv', 'fliperama', 'sofa', 'mesa', 'puff']\n",
      "['notebook', 'smartphome', 'smart tv', 'playstation', 'fliperama', 'sofa', 'mesa', 'puff']\n",
      "['notebook', 'smartphome', 'smart tv', 'playstation', 'fliperama', 'sofa', 'mesa']\n",
      "['notebook', 'smart tv', 'playstation', 'fliperama', 'sofa', 'mesa']\n",
      "['notebook', 'playstation', 'fliperama', 'sofa', 'mesa']\n",
      "['notebook', 'playstation', 'fliperama', 'sofa', 'mesa']\n",
      "['fliperama', 'mesa', 'notebook', 'playstation', 'sofa']\n",
      "['sofa', 'playstation', 'notebook', 'mesa', 'fliperama']\n"
     ]
    }
   ],
   "source": [
    "produtos = ['notebook', 'smartphome', 'smart tv']\n",
    "\n",
    "produtos.append('fliperama') #adiciona um produto ao final da lista\n",
    "print(produtos)\n",
    "produtos.extend(['sofa', 'mesa', 'puff'])# incrementa a lista com outra lista\n",
    "print(produtos)\n",
    "produtos.insert(3,'playstation')# adiciona um novo elemento em uma posisão especifica\n",
    "print(produtos)\n",
    "produtos.pop() #remove o ultimo elemento da lista\n",
    "print(produtos)\n",
    "produtos.pop(1)# remove um elemento especifico da lista\n",
    "print(produtos)\n",
    "produtos.remove('smart tv')# remove a primeira ocorrencia encontrada em uma lista\n",
    "print(produtos)\n",
    "produtos.index('notebook') # retorna o indece da primeira ocorrencia encontrada\n",
    "print(produtos)\n",
    "produtos.sort()# organiza em ordem crescente a lista\n",
    "print(produtos)\n",
    "produtos.reverse()#inverte a lista de tras pra frente\n",
    "print(produtos)"
   ]
  },
  {
   "cell_type": "markdown",
   "metadata": {},
   "source": [
    "# São objetos capazes de armazenar um bloco de codigo e depois podem ser reaproveitados em outro momento do codigo, somente chamando pelo nome.\n",
    "\n",
    "Tipos:\n",
    "\n",
    "- função sem retorno\n",
    "- função com retorno\n",
    "- função com paramentros\n",
    "- função sem paramentos\n",
    "- função lambda\n",
    "- função com multiplos parametros\n",
    "   - paramentros posicionais\n",
    "   - paramentos nomeados\n",
    "- funções recursivas   "
   ]
  },
  {
   "cell_type": "code",
   "execution_count": 47,
   "metadata": {},
   "outputs": [],
   "source": [
    "# função sem retorno\n",
    "def saudacao():\n",
    "      print('hello word!')"
   ]
  },
  {
   "cell_type": "code",
   "execution_count": 48,
   "metadata": {},
   "outputs": [
    {
     "name": "stdout",
     "output_type": "stream",
     "text": [
      "hello word!\n"
     ]
    }
   ],
   "source": [
    "saudacao()"
   ]
  },
  {
   "cell_type": "code",
   "execution_count": 49,
   "metadata": {},
   "outputs": [],
   "source": [
    "# função com retorno\n",
    "\n",
    "def somar():\n",
    "      soma = 10 + 25\n",
    "      return soma"
   ]
  },
  {
   "cell_type": "code",
   "execution_count": 50,
   "metadata": {},
   "outputs": [
    {
     "name": "stdout",
     "output_type": "stream",
     "text": [
      "35\n"
     ]
    }
   ],
   "source": [
    "print(somar())"
   ]
  },
  {
   "cell_type": "code",
   "execution_count": 52,
   "metadata": {},
   "outputs": [],
   "source": [
    "# função com parametros\n",
    "\n",
    "def somar2(numero, numero2):\n",
    "      soma = numero + numero2\n",
    "      return soma"
   ]
  },
  {
   "cell_type": "code",
   "execution_count": 53,
   "metadata": {},
   "outputs": [
    {
     "data": {
      "text/plain": [
       "13"
      ]
     },
     "execution_count": 53,
     "metadata": {},
     "output_type": "execute_result"
    }
   ],
   "source": [
    "somar2(5, 8)"
   ]
  },
  {
   "cell_type": "code",
   "execution_count": 54,
   "metadata": {},
   "outputs": [],
   "source": [
    "# função lambda\n",
    "\n",
    "soma_lambda = lambda numero, numero2 : numero + numero2"
   ]
  },
  {
   "cell_type": "code",
   "execution_count": 55,
   "metadata": {},
   "outputs": [
    {
     "data": {
      "text/plain": [
       "131"
      ]
     },
     "execution_count": 55,
     "metadata": {},
     "output_type": "execute_result"
    }
   ],
   "source": [
    "soma_lambda(45, 86)"
   ]
  },
  {
   "cell_type": "code",
   "execution_count": 57,
   "metadata": {},
   "outputs": [],
   "source": [
    "# função com multiplos paranmetos (argumentos) posicionais\n",
    "def somar3(*numero):\n",
    "      soma = sum(numero)\n",
    "      return soma"
   ]
  },
  {
   "cell_type": "code",
   "execution_count": 58,
   "metadata": {},
   "outputs": [
    {
     "data": {
      "text/plain": [
       "59804"
      ]
     },
     "execution_count": 58,
     "metadata": {},
     "output_type": "execute_result"
    }
   ],
   "source": [
    "somar3(1 , 5, 1, 6 ,15 ,1, 6, 5, 54454, 4855, 455)"
   ]
  },
  {
   "cell_type": "code",
   "execution_count": 60,
   "metadata": {},
   "outputs": [],
   "source": [
    "# função multiplos parametros nomeados\n",
    "\n",
    "def gerar_produtos(**parametros):\n",
    "      produtos = parametros\n",
    "      return produtos"
   ]
  },
  {
   "cell_type": "code",
   "execution_count": 61,
   "metadata": {},
   "outputs": [
    {
     "data": {
      "text/plain": [
       "{'nome': 'notebook', 'preco': 3000.0, 'fabricante': 'samsung'}"
      ]
     },
     "execution_count": 61,
     "metadata": {},
     "output_type": "execute_result"
    }
   ],
   "source": [
    "gerar_produtos(nome = 'notebook', preco= 3000.00, fabricante= 'samsung')"
   ]
  },
  {
   "cell_type": "code",
   "execution_count": 69,
   "metadata": {},
   "outputs": [],
   "source": [
    "# função fatorial convecional\n",
    "\n",
    "def calcula_fatorial(numero):\n",
    "    resultado = 1\n",
    "    for i in range(1 , numero + 1):\n",
    "           resultado *= i \n",
    "           return resultado     \n",
    "        "
   ]
  },
  {
   "cell_type": "code",
   "execution_count": 70,
   "metadata": {},
   "outputs": [
    {
     "data": {
      "text/plain": [
       "1"
      ]
     },
     "execution_count": 70,
     "metadata": {},
     "output_type": "execute_result"
    }
   ],
   "source": [
    "calcula_fatorial(5)"
   ]
  },
  {
   "cell_type": "code",
   "execution_count": 71,
   "metadata": {},
   "outputs": [],
   "source": [
    "def calcula_fatorial2(numero):\n",
    "      if numero == 0 or numero == 1:\n",
    "            return 1\n",
    "      else:\n",
    "         return numero * calcula_fatorial2(numero-1)"
   ]
  },
  {
   "cell_type": "code",
   "execution_count": 72,
   "metadata": {},
   "outputs": [
    {
     "name": "stdout",
     "output_type": "stream",
     "text": [
      "120\n"
     ]
    }
   ],
   "source": [
    "print(calcula_fatorial2(5))"
   ]
  }
 ],
 "metadata": {
  "interpreter": {
   "hash": "023695796a0456db28915f727eb64cb942055160ea749933aa044f2070f70f3a"
  },
  "kernelspec": {
   "display_name": "Python 3.12.5 64-bit (windows store)",
   "language": "python",
   "name": "python3"
  },
  "language_info": {
   "codemirror_mode": {
    "name": "ipython",
    "version": 3
   },
   "file_extension": ".py",
   "mimetype": "text/x-python",
   "name": "python",
   "nbconvert_exporter": "python",
   "pygments_lexer": "ipython3",
   "version": "3.12.5"
  },
  "orig_nbformat": 4
 },
 "nbformat": 4,
 "nbformat_minor": 2
}
