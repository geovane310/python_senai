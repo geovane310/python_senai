{
 "cells": [
  {
   "cell_type": "code",
   "execution_count": null,
   "metadata": {},
   "outputs": [],
   "source": [
    "try:\n",
    "\n",
    "   numero = int(input('Informe o primeiro numero: '))\n",
    "   numero1 = int(input('Informe o segundo numero: '))\n",
    "\n",
    "   divisao = numero / numero1\n",
    "   #print(divisao)\n",
    "except Exception as err:\n",
    "   print(err)\n",
    "else:\n",
    "   print('Estou no else do bloco try')\n",
    "finally:\n",
    "   print('Seus numeros estão invalidos')\n",
    "print(divisao)"
   ]
  },
  {
   "cell_type": "code",
   "execution_count": 9,
   "metadata": {},
   "outputs": [
    {
     "ename": "ValueError",
     "evalue": "invalid literal for int() with base 10: ''",
     "output_type": "error",
     "traceback": [
      "\u001b[1;31m---------------------------------------------------------------------------\u001b[0m",
      "\u001b[1;31mValueError\u001b[0m                                Traceback (most recent call last)",
      "Cell \u001b[1;32mIn[9], line 8\u001b[0m\n\u001b[0;32m      3\u001b[0m           \u001b[38;5;28msuper\u001b[39m()\u001b[38;5;241m.\u001b[39m\u001b[38;5;21m__init__\u001b[39m(\u001b[38;5;241m*\u001b[39margs)\n\u001b[0;32m      6\u001b[0m \u001b[38;5;28;01mtry\u001b[39;00m:\n\u001b[1;32m----> 8\u001b[0m    numero \u001b[38;5;241m=\u001b[39m \u001b[38;5;28;43mint\u001b[39;49m\u001b[43m(\u001b[49m\u001b[38;5;28;43minput\u001b[39;49m\u001b[43m(\u001b[49m\u001b[38;5;124;43m'\u001b[39;49m\u001b[38;5;124;43mInforme o primeiro numero: \u001b[39;49m\u001b[38;5;124;43m'\u001b[39;49m\u001b[43m)\u001b[49m\u001b[43m)\u001b[49m\n\u001b[0;32m      9\u001b[0m    numero1 \u001b[38;5;241m=\u001b[39m \u001b[38;5;28mint\u001b[39m(\u001b[38;5;28minput\u001b[39m(\u001b[38;5;124m'\u001b[39m\u001b[38;5;124mInforme o segundo numero: \u001b[39m\u001b[38;5;124m'\u001b[39m))\n\u001b[0;32m     10\u001b[0m    \u001b[38;5;28;01mif\u001b[39;00m numero1 \u001b[38;5;241m<\u001b[39m \u001b[38;5;241m1\u001b[39m:\n",
      "\u001b[1;31mValueError\u001b[0m: invalid literal for int() with base 10: ''"
     ]
    }
   ],
   "source": [
    "class ErroGenerico (Exception):\n",
    "      def __init__(self, *args: object) -> None:\n",
    "          super().__init__(*args)\n",
    "\n",
    "\n",
    "try:\n",
    "\n",
    "   numero = int(input('Informe o primeiro numero: '))\n",
    "   numero1 = int(input('Informe o segundo numero: '))\n",
    "   if numero1 < 1:\n",
    "     raise ErroGenerico('Erro personalizado')\n",
    "   else:\n",
    "     divisao = numero / numero1\n",
    "   #print(divisao)\n",
    "\n",
    "except ErroGenerico as err :\n",
    "      print(err)\n",
    "\n"
   ]
  }
 ],
 "metadata": {
  "interpreter": {
   "hash": "2f75e8a51b372faee74748d97e603e2879ce05b3cac698bb8eb76005aee4ca9e"
  },
  "kernelspec": {
   "display_name": "Python 3.12.5 64-bit ('venv': venv)",
   "language": "python",
   "name": "python3"
  },
  "language_info": {
   "codemirror_mode": {
    "name": "ipython",
    "version": 3
   },
   "file_extension": ".py",
   "mimetype": "text/x-python",
   "name": "python",
   "nbconvert_exporter": "python",
   "pygments_lexer": "ipython3",
   "version": "3.12.5"
  },
  "orig_nbformat": 4
 },
 "nbformat": 4,
 "nbformat_minor": 2
}
