{
 "cells": [
  {
   "cell_type": "code",
   "execution_count": 2,
   "metadata": {},
   "outputs": [
    {
     "data": {
      "text/plain": [
       "True"
      ]
     },
     "metadata": {},
     "output_type": "display_data"
    }
   ],
   "source": [
    "# ANY (Qualquer, qualquer coisa)\n",
    "\n",
    "resposta = any([False, True, False, False, False])\n",
    "display(resposta)"
   ]
  },
  {
   "cell_type": "code",
   "execution_count": 3,
   "metadata": {},
   "outputs": [
    {
     "data": {
      "text/plain": [
       "True"
      ]
     },
     "metadata": {},
     "output_type": "display_data"
    }
   ],
   "source": [
    "nomes = ['Geovane', '', '', '', '', '',]\n",
    "\n",
    "resposta = any(nomes)\n",
    "display(resposta)"
   ]
  },
  {
   "cell_type": "code",
   "execution_count": 5,
   "metadata": {},
   "outputs": [
    {
     "data": {
      "text/plain": [
       "False"
      ]
     },
     "metadata": {},
     "output_type": "display_data"
    }
   ],
   "source": [
    "numeros = [2, 10, 18, 24]\n",
    "\n",
    "\n",
    "resultado = any(num % 2 != 0 for num in numeros)\n",
    "\n",
    "display(resultado)"
   ]
  },
  {
   "cell_type": "code",
   "execution_count": 22,
   "metadata": {},
   "outputs": [
    {
     "name": "stdout",
     "output_type": "stream",
     "text": [
      "False\n"
     ]
    }
   ],
   "source": [
    "tabuleiro= ['a',1,'a',3,4,5,6,7,8]\n",
    "venceu = False \n",
    "combinacoes_vitoria = [\n",
    "    (0, 1, 2),(3, 4, 5), (6, 7, 8), #linhas\n",
    "    (0, 3, 6), (1, 4, 7), (2, 5, 8), #colunas\n",
    "    (0, 4, 8), (2, 4, 6)             #diagonais\n",
    "]\n",
    "resultado = any(tabuleiro[a] == tabuleiro[b] == tabuleiro [c] for a, b, c in combinacoes_vitoria)\n",
    "\n",
    "print(resultado)"
   ]
  },
  {
   "cell_type": "code",
   "execution_count": null,
   "metadata": {},
   "outputs": [],
   "source": [
    "tabuleiro = [0,0,0,3,4,5,6,7,8]\n",
    "\n",
    "def verifica_vitoria():\n",
    "    #funcao reforçado\n",
    "    combinacoes_vitoria = [\n",
    "    (0, 1, 2),(3, 4, 5), (6, 7, 8), #linhas\n",
    "    (0, 3, 6), (1, 4, 7), (2, 5, 8), #colunas\n",
    "    (0, 4, 8), (2, 4, 6)             #diagonais\n",
    "    ]"
   ]
  },
  {
   "cell_type": "code",
   "execution_count": 24,
   "metadata": {},
   "outputs": [
    {
     "name": "stdout",
     "output_type": "stream",
     "text": [
      "Geovane lucas luan\n",
      "Geovane Camila Luana\n",
      "joana jeam Vera\n"
     ]
    }
   ],
   "source": [
    "lista_numerica = [\n",
    "    ['Geovane', 'lucas', 'luan'],\n",
    "    ['Geovane', 'Camila', 'Luana'],\n",
    "    ['joana', 'jeam', 'Vera']\n",
    "]\n",
    "\n",
    "#print(lista_numerica[1][2])\n",
    "\n",
    "for nome1, nome2, nome3 in lista_numerica:\n",
    "    print(nome1, nome2, nome3)"
   ]
  },
  {
   "cell_type": "code",
   "execution_count": 27,
   "metadata": {},
   "outputs": [
    {
     "name": "stdout",
     "output_type": "stream",
     "text": [
      "True\n"
     ]
    }
   ],
   "source": [
    "lista = [True, True, True]\n",
    "\n",
    "resposta = all(lista)\n",
    "\n",
    "print(resposta)"
   ]
  },
  {
   "cell_type": "code",
   "execution_count": 29,
   "metadata": {},
   "outputs": [
    {
     "name": "stdout",
     "output_type": "stream",
     "text": [
      "['Laranja', 'Morango', 'uva']\n",
      "['Laranja', 'Morango', 'uva']\n",
      "['Laranja', 'Kiwi', 'uva']\n",
      "['Laranja', 'Kiwi', 'uva']\n"
     ]
    }
   ],
   "source": [
    "lista_frutas = ['Laranja', 'Morango', 'uva']\n",
    "\n",
    "copia_lista = lista_frutas\n",
    "\n",
    "print(lista_frutas)\n",
    "print(copia_lista)\n",
    "\n",
    "lista_frutas[1] ='Kiwi' \n",
    "\n",
    "print(lista_frutas)\n",
    "print(copia_lista)"
   ]
  },
  {
   "cell_type": "code",
   "execution_count": 36,
   "metadata": {},
   "outputs": [
    {
     "name": "stdin",
     "output_type": "stream",
     "text": [
      "informe um numero:  5\n",
      "Informe um numero:  0\n"
     ]
    },
    {
     "name": "stdout",
     "output_type": "stream",
     "text": [
      "<class 'ValueError'>\n"
     ]
    }
   ],
   "source": [
    "\n",
    "try:\n",
    "    \n",
    "    numero1 = int(input('informe um numero: '))\n",
    "    numero2 = int(input('Informe um numero: '))\n",
    "\n",
    "    print('O numero é:', numero1 / numero2)\n",
    "\n",
    "except ZeroDivisionError:\n",
    "     print(ValueError)\n",
    "except ValueError:\n",
    "    print(ValueError)\n",
    "\n",
    "print('Estou depois do try')"
   ]
  },
  {
   "cell_type": "code",
   "execution_count": null,
   "metadata": {},
   "outputs": [],
   "source": []
  }
 ],
 "metadata": {
  "interpreter": {
   "hash": "2f75e8a51b372faee74748d97e603e2879ce05b3cac698bb8eb76005aee4ca9e"
  },
  "kernelspec": {
   "display_name": "Python 3 (ipykernel)",
   "language": "python",
   "name": "python3"
  },
  "language_info": {
   "codemirror_mode": {
    "name": "ipython",
    "version": 3
   },
   "file_extension": ".py",
   "mimetype": "text/x-python",
   "name": "python",
   "nbconvert_exporter": "python",
   "pygments_lexer": "ipython3",
   "version": "3.12.5"
  }
 },
 "nbformat": 4,
 "nbformat_minor": 4
}
